{
 "cells": [
  {
   "cell_type": "markdown",
   "metadata": {},
   "source": [
    "# Tutorial 1: quick start guide\n",
    "This guide provide a very quick introduction to the usage of DDN. For more details, continue to demo 1.\n",
    "In this tutorial, we apply DDN to a simple synthetic dataset, which contains two data generated under two different network structures.\n",
    "After DDN detects the two networks, we visualize the common and differential networks, as well as getting the edges in each network.\n",
    "\n",
    "Here we use the high level `pipeline` module, as well as the `visualize` module."
   ]
  },
  {
   "cell_type": "code",
   "execution_count": 1,
   "metadata": {},
   "source": [
    "from ddn3 import pipeline, visualize\n",
    "\n",
    "%load_ext autoreload\n",
    "%autoreload 2"
   ],
   "outputs": []
  },
  {
   "cell_type": "markdown",
   "metadata": {},
   "source": [
    "DDN need two arrays (`dat1` and `dat2`) representing two conditions. Each row of an array refers to samples, and each column means features (like genes).\n",
    "Two arrays may have different number of samples, but must have the same number of features.\n",
    "A list of gene names are also needed."
   ]
  },
  {
   "cell_type": "code",
   "execution_count": 2,
   "metadata": {},
   "source": [
    "dat1, dat2, gene_names = pipeline.simple_data()"
   ],
   "outputs": []
  },
  {
   "cell_type": "markdown",
   "metadata": {},
   "source": [
    "Here we run DDN with default hyper-parameters. Check next two tutorials about more information on setting them.\n",
    "Here the functions return three items.\n",
    "`common_net` is a pandas data frame for the common network. Each row represent an edge. A common network is composed of edges that are in both conditions.\n",
    "`diff_net` is for the differential network. A differential network is composed of edges that are present in only one of the two conditions."
   ]
  },
  {
   "cell_type": "code",
   "execution_count": 3,
   "metadata": {},
   "source": [
    "common_net, diff_net, nodes_non_isolated = pipeline.ddn_pipeline(dat1, dat2, gene_names)"
   ],
   "outputs": []
  },
  {
   "cell_type": "markdown",
   "metadata": {},
   "source": [
    "We use the `draw_network_for_ddn` function to visualize the network. For common networks, use `mode=\"common\"`. For differential networks, use `mode=\"differential\"`."
   ]
  },
  {
   "cell_type": "code",
   "execution_count": 4,
   "metadata": {},
   "source": [
    "visualize.draw_network_for_ddn(common_net, nodes_non_isolated, node_size_scale=1, fig_size=10, mode='common', export_pdf=False)"
   ],
   "outputs": []
  },
  {
   "cell_type": "markdown",
   "metadata": {},
   "source": [
    "For more details about using DDN, as well aa choosing $\\lambda_1$ and $\\lambda_2$, check the next tutorials."
   ]
  }
 ],
 "metadata": {
  "kernelspec": {
   "display_name": "ai",
   "language": "python",
   "name": "python3"
  },
  "language_info": {
   "codemirror_mode": {
    "name": "ipython",
    "version": 3
   },
   "file_extension": ".py",
   "mimetype": "text/x-python",
   "name": "python",
   "nbconvert_exporter": "python",
   "pygments_lexer": "ipython3",
   "version": "3.11.7"
  }
 },
 "nbformat": 4,
 "nbformat_minor": 2
}
